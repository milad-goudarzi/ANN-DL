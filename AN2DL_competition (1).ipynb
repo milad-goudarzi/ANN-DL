{
  "nbformat": 4,
  "nbformat_minor": 0,
  "metadata": {
    "colab": {
      "name": "AN2DL_competition.ipynb",
      "provenance": [],
      "collapsed_sections": []
    },
    "kernelspec": {
      "name": "python3",
      "display_name": "Python 3"
    },
    "language_info": {
      "name": "python"
    },
    "accelerator": "GPU"
  },
  "cells": [
    {
      "cell_type": "code",
      "metadata": {
        "colab": {
          "base_uri": "https://localhost:8080/"
        },
        "id": "v8dOvtIryCPm",
        "outputId": "5d6efcb1-e8a9-4a60-cf30-d66a03d1e911"
      },
      "source": [
        "from google.colab import drive\n",
        "drive.mount('/gdrive')"
      ],
      "execution_count": 1,
      "outputs": [
        {
          "output_type": "stream",
          "name": "stdout",
          "text": [
            "Mounted at /gdrive\n"
          ]
        }
      ]
    },
    {
      "cell_type": "code",
      "metadata": {
        "id": "oJ5NZNdxHfPn"
      },
      "source": [
        "import tensorflow as tf\n",
        "import pandas as pd\n",
        "import numpy as np\n",
        "import tensorflow.keras as tfk\n",
        "import tensorflow.keras.layers as tfkl\n",
        "import random\n",
        "import os\n",
        "from tensorflow.keras.preprocessing.image import ImageDataGenerator\n",
        "from tensorflow.keras.applications.vgg16 import preprocess_input\n",
        "from sklearn.metrics import accuracy_score, f1_score, precision_score, recall_score\n",
        "from sklearn.metrics import confusion_matrix\n",
        "import seaborn as sns\n",
        "import matplotlib as mpl\n",
        "import matplotlib.pyplot as plt"
      ],
      "execution_count": 109,
      "outputs": []
    },
    {
      "cell_type": "code",
      "metadata": {
        "id": "NMeEDRLwH6vo"
      },
      "source": [
        "# Random seed for reproducibility\n",
        "seed = 10\n",
        "\n",
        "random.seed(seed)\n",
        "os.environ['PYTHONHASHSEED'] = str(seed)\n",
        "np.random.seed(seed)\n",
        "tf.random.set_seed(seed)\n",
        "tf.compat.v1.set_random_seed(seed)"
      ],
      "execution_count": 3,
      "outputs": []
    },
    {
      "cell_type": "code",
      "metadata": {
        "id": "wrTwikTtMMj1"
      },
      "source": [
        "# os.chdir('/')\n",
        "# %cd 'gdrive/MyDrive/Colab Notebooks/AN2&DL competition/dataset'"
      ],
      "execution_count": null,
      "outputs": []
    },
    {
      "cell_type": "code",
      "metadata": {
        "id": "CDMRRo7NOj8m"
      },
      "source": [
        "# !unzip dataset.zip"
      ],
      "execution_count": null,
      "outputs": []
    },
    {
      "cell_type": "code",
      "metadata": {
        "colab": {
          "base_uri": "https://localhost:8080/"
        },
        "id": "JqmKf3fuRJeS",
        "outputId": "15431cdc-ec20-468d-87fe-eebdad1b6910"
      },
      "source": [
        "os.chdir('/')\n",
        "!ls"
      ],
      "execution_count": 4,
      "outputs": [
        {
          "output_type": "stream",
          "name": "stdout",
          "text": [
            "bin\t datalab  gdrive  lib32  mnt   python-apt  sbin  tensorflow-1.15.2  usr\n",
            "boot\t dev\t  home\t  lib64  opt   root\t   srv\t tmp\t\t    var\n",
            "content  etc\t  lib\t  media  proc  run\t   sys\t tools\n"
          ]
        }
      ]
    },
    {
      "cell_type": "code",
      "metadata": {
        "id": "qAlmtCWpKqT-"
      },
      "source": [
        "dataset_dir = r'gdrive/MyDrive/Colab Notebooks/AN2&DL competition/dataset/dataset'\n",
        "\n",
        "training_dir = os.path.join(dataset_dir,'train')\n",
        "test_dir     = os.path.join(dataset_dir,'test')\n",
        "val_dir      = os.path.join(dataset_dir,'val')\n",
        "\n",
        "# train_gen = train_data_gen.flow_from_directory(directory=training_dir,\n",
        "#                                                color_mode='rgb',\n",
        "#                                                classes=None,\n",
        "#                                                batch_size=8,\n",
        "#                                                shuffle=True,\n",
        "#                                                seed=seed)\n",
        "\n",
        "# test_gen  = test_data_gen.flow_from_directory(directory=test_dir,\n",
        "#                                                color_mode='rgb',\n",
        "#                                                classes=None,\n",
        "#                                                batch_size=8,\n",
        "#                                                shuffle=True,\n",
        "#                                                seed=seed)\n",
        "\n",
        "# val_gen = val_data_gen.flow_from_directory(directory=val_dir,\n",
        "#                                                color_mode='rgb',\n",
        "#                                                classes=None,\n",
        "#                                                batch_size=8,\n",
        "#                                                shuffle=True,\n",
        "#                                                seed=seed)"
      ],
      "execution_count": 5,
      "outputs": []
    },
    {
      "cell_type": "code",
      "metadata": {
        "colab": {
          "base_uri": "https://localhost:8080/"
        },
        "id": "Gw3fFrMUYTlw",
        "outputId": "9df6b0b2-6686-4f39-8359-d86d49f2cc1e"
      },
      "source": [
        "os.chdir('/')\n",
        "!ls"
      ],
      "execution_count": 6,
      "outputs": [
        {
          "output_type": "stream",
          "name": "stdout",
          "text": [
            "bin\t datalab  gdrive  lib32  mnt   python-apt  sbin  tensorflow-1.15.2  usr\n",
            "boot\t dev\t  home\t  lib64  opt   root\t   srv\t tmp\t\t    var\n",
            "content  etc\t  lib\t  media  proc  run\t   sys\t tools\n"
          ]
        }
      ]
    },
    {
      "cell_type": "code",
      "metadata": {
        "colab": {
          "base_uri": "https://localhost:8080/"
        },
        "id": "q3chjqDLS0Dr",
        "outputId": "b59d90cc-8010-4c9b-85f1-9cc04ea51435"
      },
      "source": [
        "# Creating an instance of ImageDataGenerator without Data Augmentation\n",
        "noaug_train_data_gen = ImageDataGenerator(preprocessing_function=tfk.applications.resnet50.preprocess_input)\n",
        "valid_data_gen       = ImageDataGenerator(preprocessing_function=tfk.applications.resnet50.preprocess_input)\n",
        "test_data_gen        = ImageDataGenerator(preprocessing_function=tfk.applications.resnet50.preprocess_input)\n",
        "\n",
        "noaug_train_gen = noaug_train_data_gen.flow_from_directory(directory=training_dir,\n",
        "                                                           target_size=(256,256),\n",
        "                                                           color_mode='rgb',\n",
        "                                                           classes=None,\n",
        "                                                           class_mode='categorical',\n",
        "                                                           batch_size=30,\n",
        "                                                           shuffle=True,\n",
        "                                                           seed=seed)\n",
        "\n",
        "valid_gen = valid_data_gen.flow_from_directory(directory=val_dir,\n",
        "                                               target_size=(256,256),\n",
        "                                               color_mode='rgb',\n",
        "                                               classes=None,\n",
        "                                               class_mode='categorical',\n",
        "                                               batch_size=30,\n",
        "                                               shuffle=False, # no need to shuffle validation set\n",
        "                                               seed=seed)\n",
        "\n",
        "test_gen = test_data_gen.flow_from_directory(directory=test_dir,\n",
        "                                             target_size=(256,256),\n",
        "                                             color_mode='rgb',\n",
        "                                             classes=None,\n",
        "                                             class_mode='categorical',\n",
        "                                             batch_size=30,\n",
        "                                             shuffle=False, # no need to shuffle test set\n",
        "                                             seed=seed)"
      ],
      "execution_count": 29,
      "outputs": [
        {
          "output_type": "stream",
          "name": "stdout",
          "text": [
            "Found 14176 images belonging to 14 classes.\n",
            "Found 1765 images belonging to 14 classes.\n",
            "Found 1787 images belonging to 14 classes.\n"
          ]
        }
      ]
    },
    {
      "cell_type": "code",
      "metadata": {
        "id": "Jq7o0QaWC1dP",
        "colab": {
          "base_uri": "https://localhost:8080/"
        },
        "outputId": "27bbbd6c-a1a8-411a-dc6d-e76bb60f7328"
      },
      "source": [
        "# supernet = tfk.applications.VGG16(\n",
        "#     include_top=False,\n",
        "#     weights=\"imagenet\",\n",
        "#     input_shape=(256,256,3)\n",
        "# )\n",
        "\n",
        "supernet = tfk.applications.ResNet50(\n",
        "    include_top=False,\n",
        "    weights=\"imagenet\",\n",
        "    input_shape=(256,256,3),\n",
        ")"
      ],
      "execution_count": 28,
      "outputs": [
        {
          "output_type": "stream",
          "name": "stdout",
          "text": [
            "Downloading data from https://storage.googleapis.com/tensorflow/keras-applications/resnet/resnet50_weights_tf_dim_ordering_tf_kernels_notop.h5\n",
            "94773248/94765736 [==============================] - 1s 0us/step\n",
            "94781440/94765736 [==============================] - 1s 0us/step\n"
          ]
        }
      ]
    },
    {
      "cell_type": "code",
      "metadata": {
        "id": "xhgTLXIIFmQc"
      },
      "source": [
        "# Use the supernet as feature extractor\n",
        "supernet.trainable = False\n",
        "\n",
        "inputs = tfk.Input(shape=(256,256,3))\n",
        "# x = tfkl.Resizing(64, 64, interpolation=\"bicubic\")(inputs)\n",
        "x = supernet(inputs)\n",
        "x = tfkl.GlobalAveragePooling2D(name=\"gl_avg_pool\")(x)\n",
        "x = tfkl.Flatten(name='Flattening')(x)\n",
        "x = tfkl.Dropout(0.3, seed=seed)(x)\n",
        "x = tfkl.Dense(\n",
        "    256, \n",
        "    activation='relu',\n",
        "    kernel_initializer = tfk.initializers.GlorotUniform(seed))(x)\n",
        "x = tfkl.Dropout(0.3, seed=seed)(x)\n",
        "x = tfkl.Dense(\n",
        "    256, \n",
        "    activation='relu',\n",
        "    kernel_initializer = tfk.initializers.GlorotUniform(seed))(x)\n",
        "x = tfkl.Dropout(0.3, seed=seed)(x)\n",
        "x = tfkl.Dense(\n",
        "    256, \n",
        "    activation='relu',\n",
        "    kernel_initializer = tfk.initializers.GlorotUniform(seed))(x)\n",
        "x = tfkl.Dropout(0.3, seed=seed)(x)\n",
        "x = tfkl.Dense(\n",
        "    256, \n",
        "    activation='relu',\n",
        "    kernel_initializer = tfk.initializers.GlorotUniform(seed))(x)\n",
        "x = tfkl.Dropout(0.3, seed=seed)(x)\n",
        "outputs = tfkl.Dense(\n",
        "    14, \n",
        "    activation='softmax',\n",
        "    kernel_initializer = tfk.initializers.GlorotUniform(seed))(x)\n",
        "\n",
        "\n",
        "# Connect input and output through the Model class\n",
        "tl_model = tfk.Model(inputs=inputs, outputs=outputs, name='model')\n",
        "\n",
        "# # Freeze first N layers, e.g., until 14th\n",
        "# for i, layer in enumerate(tl_model.get_layer('vgg16').layers[:14]):\n",
        "#   layer.trainable=False\n",
        "# for i, layer in enumerate(tl_model.get_layer('vgg16').layers):\n",
        "#    print(i, layer.name, layer.trainable)\n",
        "\n",
        "# Compile the model\n",
        "tl_model.compile(loss=tfk.losses.CategoricalCrossentropy(), optimizer=tfk.optimizers.Adam(), metrics='accuracy')"
      ],
      "execution_count": 30,
      "outputs": []
    },
    {
      "cell_type": "code",
      "metadata": {
        "id": "fiaprBFLK6zz",
        "colab": {
          "base_uri": "https://localhost:8080/"
        },
        "outputId": "29293316-0f32-49d7-9ac2-127045b95df5"
      },
      "source": [
        "# Train the model\n",
        "os.chdir('/')\n",
        "tl_history = tl_model.fit(\n",
        "    x = noaug_train_gen,\n",
        "    epochs = 150,\n",
        "    validation_data = valid_gen,\n",
        "    callbacks = [tfk.callbacks.EarlyStopping(monitor='val_accuracy', mode='max', patience=10, restore_best_weights=True)]\n",
        ").history\n"
      ],
      "execution_count": 31,
      "outputs": [
        {
          "output_type": "stream",
          "name": "stdout",
          "text": [
            "Epoch 1/150\n",
            "473/473 [==============================] - 203s 290ms/step - loss: 0.7245 - accuracy: 0.7781 - val_loss: 0.1085 - val_accuracy: 0.9626\n",
            "Epoch 2/150\n",
            "473/473 [==============================] - 134s 282ms/step - loss: 0.2347 - accuracy: 0.9345 - val_loss: 0.0792 - val_accuracy: 0.9722\n",
            "Epoch 3/150\n",
            "473/473 [==============================] - 134s 283ms/step - loss: 0.1672 - accuracy: 0.9515 - val_loss: 0.0733 - val_accuracy: 0.9807\n",
            "Epoch 4/150\n",
            "473/473 [==============================] - 134s 282ms/step - loss: 0.1442 - accuracy: 0.9602 - val_loss: 0.0647 - val_accuracy: 0.9847\n",
            "Epoch 5/150\n",
            "473/473 [==============================] - 134s 282ms/step - loss: 0.1205 - accuracy: 0.9681 - val_loss: 0.0510 - val_accuracy: 0.9864\n",
            "Epoch 6/150\n",
            "473/473 [==============================] - 134s 284ms/step - loss: 0.1152 - accuracy: 0.9699 - val_loss: 0.0511 - val_accuracy: 0.9853\n",
            "Epoch 7/150\n",
            "473/473 [==============================] - 134s 284ms/step - loss: 0.0995 - accuracy: 0.9738 - val_loss: 0.0389 - val_accuracy: 0.9887\n",
            "Epoch 8/150\n",
            "473/473 [==============================] - 134s 283ms/step - loss: 0.0993 - accuracy: 0.9740 - val_loss: 0.0405 - val_accuracy: 0.9881\n",
            "Epoch 9/150\n",
            "473/473 [==============================] - 134s 284ms/step - loss: 0.0921 - accuracy: 0.9755 - val_loss: 0.0593 - val_accuracy: 0.9858\n",
            "Epoch 10/150\n",
            "473/473 [==============================] - 134s 283ms/step - loss: 0.0820 - accuracy: 0.9778 - val_loss: 0.0371 - val_accuracy: 0.9887\n",
            "Epoch 11/150\n",
            "473/473 [==============================] - 134s 283ms/step - loss: 0.0757 - accuracy: 0.9809 - val_loss: 0.0399 - val_accuracy: 0.9904\n",
            "Epoch 12/150\n",
            "473/473 [==============================] - 134s 283ms/step - loss: 0.0755 - accuracy: 0.9806 - val_loss: 0.0531 - val_accuracy: 0.9881\n",
            "Epoch 13/150\n",
            "473/473 [==============================] - 134s 283ms/step - loss: 0.0789 - accuracy: 0.9802 - val_loss: 0.0414 - val_accuracy: 0.9898\n",
            "Epoch 14/150\n",
            "473/473 [==============================] - 134s 283ms/step - loss: 0.0669 - accuracy: 0.9825 - val_loss: 0.0457 - val_accuracy: 0.9853\n",
            "Epoch 15/150\n",
            "473/473 [==============================] - 134s 283ms/step - loss: 0.0782 - accuracy: 0.9812 - val_loss: 0.0413 - val_accuracy: 0.9898\n",
            "Epoch 16/150\n",
            "473/473 [==============================] - 134s 284ms/step - loss: 0.0670 - accuracy: 0.9827 - val_loss: 0.0346 - val_accuracy: 0.9921\n",
            "Epoch 17/150\n",
            "473/473 [==============================] - 134s 283ms/step - loss: 0.0629 - accuracy: 0.9849 - val_loss: 0.0609 - val_accuracy: 0.9875\n",
            "Epoch 18/150\n",
            "473/473 [==============================] - 134s 283ms/step - loss: 0.0780 - accuracy: 0.9810 - val_loss: 0.0637 - val_accuracy: 0.9881\n",
            "Epoch 19/150\n",
            "473/473 [==============================] - 134s 283ms/step - loss: 0.0573 - accuracy: 0.9858 - val_loss: 0.0356 - val_accuracy: 0.9921\n",
            "Epoch 20/150\n",
            "473/473 [==============================] - 134s 283ms/step - loss: 0.0544 - accuracy: 0.9865 - val_loss: 0.0430 - val_accuracy: 0.9887\n",
            "Epoch 21/150\n",
            "473/473 [==============================] - 134s 284ms/step - loss: 0.0607 - accuracy: 0.9855 - val_loss: 0.0351 - val_accuracy: 0.9926\n",
            "Epoch 22/150\n",
            "473/473 [==============================] - 134s 283ms/step - loss: 0.0628 - accuracy: 0.9833 - val_loss: 0.0538 - val_accuracy: 0.9926\n",
            "Epoch 23/150\n",
            "473/473 [==============================] - 134s 283ms/step - loss: 0.0632 - accuracy: 0.9831 - val_loss: 0.0446 - val_accuracy: 0.9887\n",
            "Epoch 24/150\n",
            "473/473 [==============================] - 134s 283ms/step - loss: 0.0570 - accuracy: 0.9854 - val_loss: 0.0497 - val_accuracy: 0.9892\n",
            "Epoch 25/150\n",
            "473/473 [==============================] - 134s 283ms/step - loss: 0.0561 - accuracy: 0.9863 - val_loss: 0.0424 - val_accuracy: 0.9887\n",
            "Epoch 26/150\n",
            "473/473 [==============================] - 134s 283ms/step - loss: 0.0631 - accuracy: 0.9848 - val_loss: 0.0441 - val_accuracy: 0.9875\n",
            "Epoch 27/150\n",
            "473/473 [==============================] - 134s 283ms/step - loss: 0.0473 - accuracy: 0.9872 - val_loss: 0.0415 - val_accuracy: 0.9909\n",
            "Epoch 28/150\n",
            "473/473 [==============================] - 134s 283ms/step - loss: 0.0405 - accuracy: 0.9893 - val_loss: 0.0477 - val_accuracy: 0.9904\n",
            "Epoch 29/150\n",
            "473/473 [==============================] - 134s 283ms/step - loss: 0.0602 - accuracy: 0.9858 - val_loss: 0.0511 - val_accuracy: 0.9898\n",
            "Epoch 30/150\n",
            "473/473 [==============================] - 134s 284ms/step - loss: 0.0433 - accuracy: 0.9886 - val_loss: 0.0391 - val_accuracy: 0.9887\n",
            "Epoch 31/150\n",
            "473/473 [==============================] - 134s 284ms/step - loss: 0.0452 - accuracy: 0.9894 - val_loss: 0.0477 - val_accuracy: 0.9887\n"
          ]
        }
      ]
    },
    {
      "cell_type": "code",
      "metadata": {
        "id": "koyQshWCOVtA",
        "colab": {
          "base_uri": "https://localhost:8080/"
        },
        "outputId": "87716bda-ffe5-4295-b647-667f53c05e81"
      },
      "source": [
        "import os\n",
        "os.chdir('/')\n",
        "os.chdir('gdrive/MyDrive/Colab Notebooks/AN2&DL competition')\n",
        "tl_model.save('ft_model_without_data_aug')"
      ],
      "execution_count": 34,
      "outputs": [
        {
          "output_type": "stream",
          "name": "stdout",
          "text": [
            "INFO:tensorflow:Assets written to: ft_model_without_data_aug/assets\n"
          ]
        },
        {
          "output_type": "stream",
          "name": "stderr",
          "text": [
            "/usr/local/lib/python3.7/dist-packages/keras/engine/functional.py:1410: CustomMaskWarning: Custom mask layers require a config and must override get_config. When loading, the custom mask layer must be passed to the custom_objects argument.\n",
            "  layer_config = serialize_layer_fn(layer)\n",
            "/usr/local/lib/python3.7/dist-packages/keras/saving/saved_model/layer_serialization.py:112: CustomMaskWarning: Custom mask layers require a config and must override get_config. When loading, the custom mask layer must be passed to the custom_objects argument.\n",
            "  return generic_utils.serialize_keras_object(obj)\n"
          ]
        }
      ]
    },
    {
      "cell_type": "code",
      "metadata": {
        "id": "0ZMH1L4OLPJB"
      },
      "source": [
        "# Predict the test set with the CNN\n",
        "os.chdir('/')\n",
        "predictions = tl_model.predict(test_gen)\n",
        "predictions.shape"
      ],
      "execution_count": null,
      "outputs": []
    },
    {
      "cell_type": "code",
      "metadata": {
        "colab": {
          "base_uri": "https://localhost:8080/"
        },
        "id": "waVPejnw86DT",
        "outputId": "16ccd435-1a45-451b-b7d9-43f053353825"
      },
      "source": [
        "one_hot_preds = tfk.utils.to_categorical(np.argmax(predictions, axis=-1), num_classes=14)\n",
        "len(one_hot_preds)"
      ],
      "execution_count": 73,
      "outputs": [
        {
          "output_type": "execute_result",
          "data": {
            "text/plain": [
              "1787"
            ]
          },
          "metadata": {},
          "execution_count": 73
        }
      ]
    },
    {
      "cell_type": "code",
      "metadata": {
        "id": "mtOHB-Bu9V5i"
      },
      "source": [
        "y_test = np.array([])\n",
        "\n",
        "for i in range(len(test_gen)):\n",
        "  for j in range(len(test_gen[i][1])):\n",
        "    y_test = np.append(y_test, np.argmax(test_gen[i][1][j]))"
      ],
      "execution_count": 103,
      "outputs": []
    },
    {
      "cell_type": "code",
      "metadata": {
        "colab": {
          "base_uri": "https://localhost:8080/"
        },
        "id": "95WZpcVVDYMD",
        "outputId": "b5b9920a-c398-4a5c-b110-8ee5b4c20537"
      },
      "source": [
        "y_test"
      ],
      "execution_count": 105,
      "outputs": [
        {
          "output_type": "execute_result",
          "data": {
            "text/plain": [
              "array([ 0.,  0.,  0., ..., 13., 13., 13.])"
            ]
          },
          "metadata": {},
          "execution_count": 105
        }
      ]
    },
    {
      "cell_type": "code",
      "metadata": {
        "colab": {
          "base_uri": "https://localhost:8080/",
          "height": 611
        },
        "id": "bUhQnm1W8MHj",
        "outputId": "09e5cdb6-c3ac-487d-d290-b2913ea936d9"
      },
      "source": [
        "# Compute the confusion matrix\n",
        "cm = confusion_matrix(y_test, np.argmax(predictions, axis=-1))\n",
        "\n",
        "labels = {\n",
        "    0:'Apple',     \n",
        "    1:'Blueberry', \n",
        "    2:'Cherry',    \n",
        "    3:'Corn',      \n",
        "    4:'Grape',     \n",
        "    5:'Orange',    \n",
        "    6:'Peach',     \n",
        "    7:'Pepper',    \n",
        "    8:'Potato',    \n",
        "    9:'Raspberry', \n",
        "    10:'Soybean',   \n",
        "    11:'Squash',     \n",
        "    12:'Strawberry',\n",
        "    13:'Tomato'\n",
        "}\n",
        "\n",
        "# Compute the classification metrics\n",
        "accuracy = accuracy_score(y_test, np.argmax(predictions, axis=-1))\n",
        "precision = precision_score(y_test, np.argmax(predictions, axis=-1), average='weighted')\n",
        "recall = recall_score(y_test, np.argmax(predictions, axis=-1), average='weighted')\n",
        "f1 = f1_score(y_test, np.argmax(predictions, axis=-1), average='weighted')\n",
        "print('Accuracy:',accuracy.round(4))\n",
        "print('Precision:',precision.round(4))\n",
        "print('Recall:',recall.round(4))\n",
        "print('F1:',f1.round(4))\n",
        "\n",
        "# Plot the confusion matrix\n",
        "plt.figure(figsize=(10,8))\n",
        "sns.heatmap(cm.T, xticklabels=list(labels.values()), yticklabels=list(labels.values()))\n",
        "plt.xlabel('True labels')\n",
        "plt.ylabel('Predicted labels')\n",
        "plt.show()"
      ],
      "execution_count": 120,
      "outputs": [
        {
          "output_type": "stream",
          "name": "stdout",
          "text": [
            "Accuracy: 0.9933\n",
            "Precision: 0.9934\n",
            "Recall: 0.9933\n",
            "F1: 0.9933\n"
          ]
        },
        {
          "output_type": "display_data",
          "data": {
            "image/png": "[encoded data removed]",
            "text/plain": [
              "<Figure size 720x576 with 2 Axes>"
            ]
          },
          "metadata": {
            "needs_background": "light"
          }
        }
      ]
    },
    {
      "cell_type": "code",
      "metadata": {
        "id": "AIkxtdbFLaUx"
      },
      "source": [
        "# Set all layers to True\n",
        "ft_model.get_layer('vgg16').trainable = True\n",
        "for i, layer in enumerate(ft_model.get_layer('vgg16').layers):\n",
        "   print(i, layer.name, layer.trainable)"
      ],
      "execution_count": null,
      "outputs": []
    },
    {
      "cell_type": "code",
      "metadata": {
        "id": "jnS730PNLkzp"
      },
      "source": [
        "# Freeze first N layers, e.g., until 14th\n",
        "for i, layer in enumerate(ft_model.get_layer('vgg16').layers[:14]):\n",
        "  layer.trainable=False\n",
        "for i, layer in enumerate(ft_model.get_layer('vgg16').layers):\n",
        "   print(i, layer.name, layer.trainable)"
      ],
      "execution_count": null,
      "outputs": []
    },
    {
      "cell_type": "code",
      "metadata": {
        "id": "DZlkGe5cLxEv"
      },
      "source": [
        "# Compile the model\n",
        "ft_model.compile(loss=tfk.losses.CategoricalCrossentropy(), optimizer=tfk.optimizers.Adam(1e-4), metrics='accuracy')"
      ],
      "execution_count": null,
      "outputs": []
    },
    {
      "cell_type": "code",
      "metadata": {
        "id": "k9GHm64kMdkJ"
      },
      "source": [
        "# Predict the test set with the CNN\n",
        "predictions = ft_model.predict(X_test)\n",
        "predictions.shape\n",
        "\n",
        "# Compute the confusion matrix\n",
        "cm = confusion_matrix(np.argmax(y_test, axis=-1), np.argmax(predictions, axis=-1))\n",
        "\n",
        "# Compute the classification metrics\n",
        "accuracy = accuracy_score(np.argmax(y_test, axis=-1), np.argmax(predictions, axis=-1))\n",
        "precision = precision_score(np.argmax(y_test, axis=-1), np.argmax(predictions, axis=-1), average='macro')\n",
        "recall = recall_score(np.argmax(y_test, axis=-1), np.argmax(predictions, axis=-1), average='macro')\n",
        "f1 = f1_score(np.argmax(y_test, axis=-1), np.argmax(predictions, axis=-1), average='macro')\n",
        "print('Accuracy:',accuracy.round(4))\n",
        "print('Precision:',precision.round(4))\n",
        "print('Recall:',recall.round(4))\n",
        "print('F1:',f1.round(4))\n",
        "\n",
        "# Plot the confusion matrix\n",
        "plt.figure(figsize=(10,8))\n",
        "sns.heatmap(cm.T, xticklabels=list(labels.values()), yticklabels=list(labels.values()))\n",
        "plt.xlabel('True labels')\n",
        "plt.ylabel('Predicted labels')\n",
        "plt.show()"
      ],
      "execution_count": null,
      "outputs": []
    }
  ]
}